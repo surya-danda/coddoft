{
 "cells": [
  {
   "cell_type": "code",
   "execution_count": null,
   "id": "677618a4-7e8b-4078-9b61-6de277573162",
   "metadata": {},
   "outputs": [],
   "source": [
    "#ROCK-PAPER-SCISSOR-GAME\n",
    "\n",
    "\n",
    "import random\n",
    "user_score=0\n",
    "computer_score=0\n",
    "def game():\n",
    "    global computer_score,user_score\n",
    "    user_choice=int(input(\"enter your choice '0' for rock, '1' for paper,'2' for scissor\" ))\n",
    "    if(user_choice > 2):\n",
    "        print(\"you insert invalid  number you loose\") \n",
    "    else:\n",
    "        computer_choice=random.randint(0,2)\n",
    "        print(f\"the computer_choice is {computer_choice}\")\n",
    "        if(user_choice==2 and computer_choice==0):\n",
    "            print(\"you lose the game\")\n",
    "            computer_score+=1\n",
    "        elif(user_choice==0 and computer_choice==2):\n",
    "            print(\"you won the game\")\n",
    "            user_score+=1\n",
    "        elif(user_choice > computer_choice):\n",
    "            print(\"you won the game\")\n",
    "            user_score+=1\n",
    "        elif(computer_choice > user_choice):\n",
    "            print(\"you lose the game\")\n",
    "            computer_score+=1\n",
    "        else:\n",
    "            print(\"it's a tie match\")\n",
    "\n",
    "\n",
    "def main():\n",
    "    global computer_score,user_score\n",
    "    while True:\n",
    "        game()\n",
    "        print(f\"scores: you - {user_score} , computer - {computer_score}\")\n",
    "        play_again=(input(\"if you want play another match? (yes/no):\").lower())\n",
    "        if play_again !='yes':\n",
    "            break\n",
    "        print(\"thank you for playing this game\")\n",
    "        print(\"your's final score \")\n",
    "        print(f\"scores:you-{user_score}, computer-{computer_score}\")\n",
    "\n",
    "\n",
    "            \n",
    "    \n",
    "if __name__ == \"__main__\":\n",
    "    main()\n",
    "\n",
    "                "
   ]
  },
  {
   "cell_type": "code",
   "execution_count": null,
   "id": "a8b5563b-f353-4a41-83a3-4c8f4e46c3d6",
   "metadata": {},
   "outputs": [],
   "source": []
  },
  {
   "cell_type": "code",
   "execution_count": null,
   "id": "63b62270-980e-4e32-b710-9307bae88f5f",
   "metadata": {},
   "outputs": [],
   "source": []
  }
 ],
 "metadata": {
  "kernelspec": {
   "display_name": "Python 3 (ipykernel)",
   "language": "python",
   "name": "python3"
  },
  "language_info": {
   "codemirror_mode": {
    "name": "ipython",
    "version": 3
   },
   "file_extension": ".py",
   "mimetype": "text/x-python",
   "name": "python",
   "nbconvert_exporter": "python",
   "pygments_lexer": "ipython3",
   "version": "3.12.7"
  }
 },
 "nbformat": 4,
 "nbformat_minor": 5
}
