{
 "cells": [
  {
   "cell_type": "code",
   "execution_count": 5,
   "id": "ae4d906a-d670-4139-bf55-2285023b5e97",
   "metadata": {},
   "outputs": [
    {
     "name": "stdout",
     "output_type": "stream",
     "text": [
      "welcome to the simple calculator\n"
     ]
    },
    {
     "name": "stdin",
     "output_type": "stream",
     "text": [
      "enter the first number 2\n",
      "enter the second number 0\n"
     ]
    },
    {
     "name": "stdout",
     "output_type": "stream",
     "text": [
      "choose operation\n",
      "1 for addition\n",
      "2 for subtraction\n",
      "3 for multiplication\n",
      "4 for division\n"
     ]
    },
    {
     "name": "stdin",
     "output_type": "stream",
     "text": [
      "enter any operation 4\n"
     ]
    },
    {
     "name": "stdout",
     "output_type": "stream",
     "text": [
      "errors division by zero is not allowed\n"
     ]
    }
   ],
   "source": [
    "def calculator():\n",
    "    print(\"welcome to the simple calculator\")\n",
    "    num1=float(input(\"enter the first number\"))\n",
    "    num2=float(input(\"enter the second number\"))\n",
    "\n",
    "    print(\"choose operation\")\n",
    "    print(\"1 for addition\")\n",
    "    print(\"2 for subtraction\")\n",
    "    print(\"3 for multiplication\")\n",
    "    print(\"4 for division\")\n",
    "    2\n",
    "    \n",
    "    operation=input(\"enter any operation\")\n",
    "    if operation==\"1\":\n",
    "        result=num1+num2\n",
    "        print(f\"the result of addition is:{result}\")    \n",
    "    elif operation==\"2\":\n",
    "        result=num1-num2\n",
    "        print(f\"the result of subtraction is:{result}\")  \n",
    "    elif operation==\"3\":\n",
    "        result=num1*num2\n",
    "        print(f\"the result of multiplication is:{result}\")  \n",
    "    elif operation==\"4\":\n",
    "        if num2!=0:\n",
    "            result=num1/num2\n",
    "            print(f\"the result of divison is:{result}\")\n",
    "        else:\n",
    "            print(\"errors division by zero is not allowed\")\n",
    "    \n",
    "    else:\n",
    "        print(\"invalid choice please try again\")\n",
    "\n",
    "calculator()\n",
    "\n",
    "\n",
    "    "
   ]
  }
 ],
 "metadata": {
  "kernelspec": {
   "display_name": "Python 3 (ipykernel)",
   "language": "python",
   "name": "python3"
  },
  "language_info": {
   "codemirror_mode": {
    "name": "ipython",
    "version": 3
   },
   "file_extension": ".py",
   "mimetype": "text/x-python",
   "name": "python",
   "nbconvert_exporter": "python",
   "pygments_lexer": "ipython3",
   "version": "3.12.7"
  }
 },
 "nbformat": 4,
 "nbformat_minor": 5
}
