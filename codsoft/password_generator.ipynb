{
 "cells": [
  {
   "cell_type": "code",
   "execution_count": 1,
   "id": "61e4c451-393f-4450-a0ad-9ebfd432fe69",
   "metadata": {},
   "outputs": [
    {
     "name": "stdout",
     "output_type": "stream",
     "text": [
      "welcome to password generator\n"
     ]
    },
    {
     "name": "stdin",
     "output_type": "stream",
     "text": [
      "how many letters do you want in password? 3\n",
      "how many symbols do you want in password? 3\n",
      "how many numbers do you want in password? 3\n"
     ]
    },
    {
     "name": "stdout",
     "output_type": "stream",
     "text": [
      "['Q', 'I', 'N', '/', ')', '*', '6', '6', '5']\n",
      "/*5)Q6NI6\n"
     ]
    }
   ],
   "source": [
    "import random\n",
    "letters = [\n",
    "    'A', 'B', 'C', 'D', 'E', 'F', 'G', 'H', 'I', 'J', 'K', 'L', 'M', \n",
    "    'N', 'O', 'P', 'Q', 'R', 'S', 'T', 'U', 'V', 'W', 'X', 'Y', 'Z'\n",
    "]\n",
    "numbers=[0, 1, 2, 3, 4, 5, 6, 7, 8, 9]\n",
    "symbols= [\n",
    "    '!', '@', '#', '$', '%', '^', '&', '*', '(', ')', '-', '_', '=',\n",
    "    '+', '[', ']', '{', '}', '|', '\\\\', ':', ';', '\"', '\\'', '<', \n",
    "    '>', ',', '.', '?', '/', '~', '`'\n",
    "]\n",
    "\n",
    "print(\"welcome to password generator\")\n",
    "n_letters=int(input(\"how many letters do you want in password?\"))\n",
    "n_symbols=int(input(\"how many symbols do you want in password?\"))\n",
    "n_numbers=int(input(\"how many numbers do you want in password?\"))\n",
    "password_list=[]\n",
    "for i in range(1,n_letters+1):\n",
    "    char=random.choice(letters)\n",
    "    password_list.append(char)\n",
    "    \n",
    "for i in range(1,n_symbols+1):\n",
    "    char=random.choice(symbols)\n",
    "    password_list.append(char)\n",
    "\n",
    "for i in range(1,n_numbers+1):\n",
    "    char=str(random.choice(numbers))\n",
    "    password_list.append(char)\n",
    "    \n",
    "print(password_list)\n",
    "random.shuffle(password_list)\n",
    "\n",
    "password = \"\"\n",
    "for char in password_list:\n",
    "    password += char\n",
    "\n",
    "print(password)\n",
    "\n",
    "    \n",
    "              \n",
    "              \n",
    "\n"
   ]
  }
 ],
 "metadata": {
  "kernelspec": {
   "display_name": "Python 3 (ipykernel)",
   "language": "python",
   "name": "python3"
  },
  "language_info": {
   "codemirror_mode": {
    "name": "ipython",
    "version": 3
   },
   "file_extension": ".py",
   "mimetype": "text/x-python",
   "name": "python",
   "nbconvert_exporter": "python",
   "pygments_lexer": "ipython3",
   "version": "3.12.7"
  }
 },
 "nbformat": 4,
 "nbformat_minor": 5
}
